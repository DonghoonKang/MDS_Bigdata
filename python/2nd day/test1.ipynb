{
 "cells": [
  {
   "cell_type": "code",
   "execution_count": 3,
   "metadata": {
    "scrolled": true
   },
   "outputs": [
    {
     "name": "stdout",
     "output_type": "stream",
     "text": [
      "Found \"this\"\n",
      " in \"Does this text match the pattern?\"\n",
      "from 5 to 9 (\"this\")\n"
     ]
    }
   ],
   "source": [
    "import re\n",
    "\n",
    "pattern = 'this'\n",
    "text = \"Does this text match the pattern?\"\n",
    "\n",
    "match = re.search(pattern, text)\n",
    "\n",
    "s = match.start()\n",
    "e = match.end()\n",
    "\n",
    "print('Found \"%s\"\\n in \"%s\"\\nfrom %d to %d (\"%s\")'%\n",
    "     (match.re.pattern,match.string,s,e,text[s:e]))"
   ]
  },
  {
   "cell_type": "code",
   "execution_count": 11,
   "metadata": {},
   "outputs": [
    {
     "name": "stdout",
     "output_type": "stream",
     "text": [
      "Found \"ab\"\n",
      "Found \"ab\"\n",
      "Found \"ab\"\n",
      "Found \"ab\"\n",
      "Found \"ab\"\n",
      "Found 5 times match!\n",
      "[(0, 2), (2, 4), (4, 6), (9, 11), (14, 16)]\n"
     ]
    }
   ],
   "source": [
    "import re\n",
    "text = 'abababbaaabbbaabb'\n",
    "pattern = 'ab'\n",
    "i = 0\n",
    "for match in re.findall(pattern, text):\n",
    "    print('Found \"%s\"'%match)\n",
    "    i = i + 1\n",
    "print ('Found %d times match!'%i)\n",
    "rist = []\n",
    "for match in re.finditer(pattern,text):\n",
    "    rist.append(match.span())\n",
    "print(rist)"
   ]
  },
  {
   "cell_type": "code",
   "execution_count": 15,
   "metadata": {},
   "outputs": [
    {
     "name": "stdout",
     "output_type": "stream",
     "text": [
      "Text: 'Does this text match the pattenr?'\n",
      "\n",
      "Seeking \"this\"->\n",
      "match!\n",
      "Seeking \"that\"->\n",
      "no match\n"
     ]
    }
   ],
   "source": [
    "import re\n",
    "\n",
    "regexes = [re.compile(p)\n",
    "           for p in ['this','that']\n",
    "          ]\n",
    "text = \"Does this text match the pattenr?\"\n",
    "\n",
    "print('Text: %r\\n'%text)\n",
    "\n",
    "for regex in regexes:\n",
    "    print('Seeking \"%s\"->'%regex.pattern)\n",
    "    if regex.search(text):\n",
    "        print('match!')\n",
    "    else:\n",
    "        print('no match')"
   ]
  },
  {
   "cell_type": "code",
   "execution_count": 19,
   "metadata": {},
   "outputs": [
    {
     "name": "stdout",
     "output_type": "stream",
     "text": [
      "010 9282-5237\n"
     ]
    }
   ],
   "source": [
    "import re\n",
    "text = \"문의사항이 있으면 010-9282-5237으로 연락주시기 바랍니다.\"\n",
    "\n",
    "regex = re.compile(r'(\\d{3})-(\\d{4}-\\d{4})')\n",
    "matchobj = regex.search(text)\n",
    "areaCode = matchobj.group(1)\n",
    "num = matchobj.group(2)\n",
    "fullNum = matchobj.group()\n",
    "print (areaCode, num)"
   ]
  },
  {
   "cell_type": "code",
   "execution_count": 20,
   "metadata": {},
   "outputs": [
    {
     "name": "stdout",
     "output_type": "stream",
     "text": [
      "010 9282-5237\n"
     ]
    }
   ],
   "source": [
    "import re\n",
    "text = \"문의사항이 있으면 010-9282-5237으로 연락주시기 바랍니다.\"\n",
    "\n",
    "regex = re.compile(r'(?P<area>\\d{3})-(?P<num>\\d{4}-\\d{4})')\n",
    "matchobj = regex.search(text)\n",
    "areaCode = matchobj.group(\"area\")\n",
    "num = matchobj.group(\"num\")\n",
    "print (areaCode, num)"
   ]
  }
 ],
 "metadata": {
  "kernelspec": {
   "display_name": "Python 3",
   "language": "python",
   "name": "python3"
  },
  "language_info": {
   "codemirror_mode": {
    "name": "ipython",
    "version": 3
   },
   "file_extension": ".py",
   "mimetype": "text/x-python",
   "name": "python",
   "nbconvert_exporter": "python",
   "pygments_lexer": "ipython3",
   "version": "3.7.2"
  }
 },
 "nbformat": 4,
 "nbformat_minor": 2
}

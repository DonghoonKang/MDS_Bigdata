{
 "cells": [
  {
   "cell_type": "code",
   "execution_count": 2,
   "metadata": {},
   "outputs": [
    {
     "data": {
      "text/plain": [
       "[\"Hello, it's me.\",\n",
       " 'I was wondering if after all these years.',\n",
       " \"You'd like to meet, to go over everything.\",\n",
       " \"They say that time's supposed to heal ya.\"]"
      ]
     },
     "execution_count": 2,
     "metadata": {},
     "output_type": "execute_result"
    }
   ],
   "source": [
    "import nltk\n",
    "txt=\"Hello, it's me. I was wondering \\\n",
    "if after all these years. You'd like to \\\n",
    "meet, to go over everything. They \\\n",
    "say that time's supposed to heal ya.\"\n",
    "txt\n",
    "sentences = nltk.tokenize.sent_tokenize(txt)\n",
    "sentences"
   ]
  },
  {
   "cell_type": "code",
   "execution_count": 3,
   "metadata": {
    "scrolled": true
   },
   "outputs": [
    {
     "data": {
      "text/plain": [
       "[['Hello', ',', 'it', \"'s\", 'me', '.'],\n",
       " ['I', 'was', 'wondering', 'if', 'after', 'all', 'these', 'years', '.'],\n",
       " ['You',\n",
       "  \"'d\",\n",
       "  'like',\n",
       "  'to',\n",
       "  'meet',\n",
       "  ',',\n",
       "  'to',\n",
       "  'go',\n",
       "  'over',\n",
       "  'everything',\n",
       "  '.'],\n",
       " ['They', 'say', 'that', 'time', \"'s\", 'supposed', 'to', 'heal', 'ya', '.']]"
      ]
     },
     "execution_count": 3,
     "metadata": {},
     "output_type": "execute_result"
    }
   ],
   "source": [
    "tokens = [nltk.tokenize.word_tokenize(sen) for sen in sentences]\n",
    "tokens"
   ]
  },
  {
   "cell_type": "code",
   "execution_count": 5,
   "metadata": {},
   "outputs": [
    {
     "data": {
      "text/plain": [
       "[[('Hello', 'NNP'),\n",
       "  (',', ','),\n",
       "  ('it', 'PRP'),\n",
       "  (\"'s\", 'VBZ'),\n",
       "  ('me', 'PRP'),\n",
       "  ('.', '.')],\n",
       " [('I', 'PRP'),\n",
       "  ('was', 'VBD'),\n",
       "  ('wondering', 'VBG'),\n",
       "  ('if', 'IN'),\n",
       "  ('after', 'IN'),\n",
       "  ('all', 'PDT'),\n",
       "  ('these', 'DT'),\n",
       "  ('years', 'NNS'),\n",
       "  ('.', '.')],\n",
       " [('You', 'PRP'),\n",
       "  (\"'d\", 'MD'),\n",
       "  ('like', 'VB'),\n",
       "  ('to', 'TO'),\n",
       "  ('meet', 'VB'),\n",
       "  (',', ','),\n",
       "  ('to', 'TO'),\n",
       "  ('go', 'VB'),\n",
       "  ('over', 'RP'),\n",
       "  ('everything', 'NN'),\n",
       "  ('.', '.')],\n",
       " [('They', 'PRP'),\n",
       "  ('say', 'VBP'),\n",
       "  ('that', 'IN'),\n",
       "  ('time', 'NN'),\n",
       "  (\"'s\", 'POS'),\n",
       "  ('supposed', 'VBN'),\n",
       "  ('to', 'TO'),\n",
       "  ('heal', 'VB'),\n",
       "  ('ya', 'NN'),\n",
       "  ('.', '.')]]"
      ]
     },
     "execution_count": 5,
     "metadata": {},
     "output_type": "execute_result"
    }
   ],
   "source": [
    "pos_tagged_tokens = [nltk.pos_tag(t) for t in tokens]\n",
    "pos_tagged_tokens"
   ]
  }
 ],
 "metadata": {
  "kernelspec": {
   "display_name": "Python 3",
   "language": "python",
   "name": "python3"
  },
  "language_info": {
   "codemirror_mode": {
    "name": "ipython",
    "version": 3
   },
   "file_extension": ".py",
   "mimetype": "text/x-python",
   "name": "python",
   "nbconvert_exporter": "python",
   "pygments_lexer": "ipython3",
   "version": "3.7.2"
  }
 },
 "nbformat": 4,
 "nbformat_minor": 2
}

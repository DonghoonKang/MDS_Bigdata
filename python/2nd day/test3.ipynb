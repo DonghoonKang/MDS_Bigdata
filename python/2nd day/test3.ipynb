{
 "cells": [
  {
   "cell_type": "code",
   "execution_count": 11,
   "metadata": {},
   "outputs": [
    {
     "name": "stdout",
     "output_type": "stream",
     "text": [
      "26 µs ± 112 ns per loop (mean ± std. dev. of 7 runs, 10000 loops each)\n",
      "9.91 µs ± 15.3 ns per loop (mean ± std. dev. of 7 runs, 100000 loops each)\n",
      "25.8 µs ± 39 ns per loop (mean ± std. dev. of 7 runs, 10000 loops each)\n",
      "25.8 µs ± 48.3 ns per loop (mean ± std. dev. of 7 runs, 10000 loops each)\n"
     ]
    }
   ],
   "source": [
    "import numpy as np\n",
    "from numpy.lib.stride_tricks import as_strided\n",
    "n=5; k=2\n",
    "a = np.linspace(1,n,n); aid = id(a)\n",
    "as_strided(a,(k,n),(8,8))\n",
    "as_strided(a,(k, n-k+1),(8,8))\n",
    "def shift1(x,k):\n",
    "    return np.vstack([x[i:n-k+i+1] for i in range(k)])\n",
    "def shift2(x,k):\n",
    "    return as_strided(x,(k, n-k+1),(x.itemsize,)*2)\n",
    "b = shift1(a,k); b, id(b) == aid\n",
    "c = shift2(a,k); c, id(c) == aid\n",
    "n,k = 100,10\n",
    "t = np.linspace(0.,1.,n)\n",
    "x = t + .1 * np.random.randn(n)\n",
    "y = shift2(x,k)\n",
    "x_avg=y.mean(axis=0)\n",
    "%timeit shift1(x,k)\n",
    "%timeit shift2(x,k)\n",
    "%timeit y = shift1(x,k)\n",
    "%timeit y = shift1(x,k)\n"
   ]
  }
 ],
 "metadata": {
  "kernelspec": {
   "display_name": "Python 3",
   "language": "python",
   "name": "python3"
  },
  "language_info": {
   "codemirror_mode": {
    "name": "ipython",
    "version": 3
   },
   "file_extension": ".py",
   "mimetype": "text/x-python",
   "name": "python",
   "nbconvert_exporter": "python",
   "pygments_lexer": "ipython3",
   "version": "3.7.2"
  }
 },
 "nbformat": 4,
 "nbformat_minor": 2
}

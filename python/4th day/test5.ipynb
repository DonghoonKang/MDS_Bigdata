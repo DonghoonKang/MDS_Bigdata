{
 "cells": [
  {
   "cell_type": "code",
   "execution_count": null,
   "metadata": {},
   "outputs": [],
   "source": [
    "### NEW paragraph\n",
    "This is *rich* **text** with [links](http://ipython.org), equations:\n",
    "$$\\hat{f}(\\xi) = \\int_{-\\infty}^{+\\infty} f(x)\\, \\mathrm{e}^{-i \\xi x}\n",
    "dx$$\n",
    "code with syntax highlighting:\n",
    "''' python\n",
    "print(\"Hello World!\")\n",
    "'''\n",
    "and images:\n",
    "    ![This is an image](http://ipython.org/_static/IPy_header.png)"
   ]
  },
  {
   "cell_type": "code",
   "execution_count": null,
   "metadata": {},
   "outputs": [],
   "source": []
  }
 ],
 "metadata": {
  "kernelspec": {
   "display_name": "Python 3",
   "language": "python",
   "name": "python3"
  },
  "language_info": {
   "codemirror_mode": {
    "name": "ipython",
    "version": 3
   },
   "file_extension": ".py",
   "mimetype": "text/x-python",
   "name": "python",
   "nbconvert_exporter": "python",
   "pygments_lexer": "ipython3",
   "version": "3.7.2"
  }
 },
 "nbformat": 4,
 "nbformat_minor": 2
}

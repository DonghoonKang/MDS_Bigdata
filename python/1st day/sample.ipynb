{
 "cells": [
  {
   "cell_type": "code",
   "execution_count": 22,
   "metadata": {
    "scrolled": false
   },
   "outputs": [
    {
     "name": "stdout",
     "output_type": "stream",
     "text": [
      "============================================================\n",
      "Country :  Liechtenstein\n",
      "Rank :  1\n",
      "Year :  2008\n",
      "Neighbor :  {'name': 'Austria', 'direction': 'E'}\n",
      "Neighbor :  {'name': 'Switzerland', 'direction': 'W'}\n",
      "============================================================\n",
      "Country :  Singapore\n",
      "Rank :  4\n",
      "Year :  2011\n",
      "Neighbor :  {'name': 'Malaysia', 'direction': 'N'}\n",
      "============================================================\n",
      "Country :  Panama\n",
      "Rank :  68\n",
      "Year :  2011\n",
      "Neighbor :  {'name': 'Costa Rica', 'direction': 'W'}\n",
      "Neighbor :  {'name': 'Colombia', 'direction': 'E'}\n"
     ]
    }
   ],
   "source": [
    "import xml.etree.ElementTree as ET\n",
    "doc = ET.parse('country.xml')\n",
    "root=doc.getroot()\n",
    "country_tag = root.find(\"country\")\n",
    "country_tags = root.findall(\"country\")\n",
    "country_text = root.findtext(\"country\")\n",
    "country_text = root.find(\"country\").text\n",
    "\n",
    "for country in root.iter(\"country\"):\n",
    "    print(\"=\"*60)\n",
    "    print(\"Country : \",country.attrib[\"name\"])\n",
    "    print(\"Rank : \",country.findtext(\"rank\"))\n",
    "    print(\"Year : \",country.findtext(\"year\"))\n",
    "    for neighbor in country.iter(\"neighbor\"):\n",
    "        print(\"Neighbor : \", neighbor.attrib)"
   ]
  },
  {
   "cell_type": "code",
   "execution_count": 24,
   "metadata": {
    "scrolled": true
   },
   "outputs": [
    {
     "name": "stdout",
     "output_type": "stream",
     "text": [
      "<data>\n",
      "    <country name=\"Liechtenstein\">\n",
      "        <rank updated=\"yes\">2</rank>\n",
      "        <year>2008</year>\n",
      "        <gdppc>141100</gdppc>\n",
      "        <neighbor direction=\"E\" name=\"Austria\" />\n",
      "        <neighbor direction=\"W\" name=\"Switzerland\" />\n",
      "    </country>\n",
      "    <country name=\"Singapore\">\n",
      "        <rank updated=\"yes\">5</rank>\n",
      "        <year>2011</year>\n",
      "        <gdppc>59900</gdppc>\n",
      "        <neighbor direction=\"N\" name=\"Malaysia\" />\n",
      "    </country>\n",
      "    <country name=\"Panama\">\n",
      "        <rank updated=\"yes\">69</rank>\n",
      "        <year>2011</year>\n",
      "        <gdppc>13600</gdppc>\n",
      "        <neighbor direction=\"W\" name=\"Costa Rica\" />\n",
      "        <neighbor direction=\"E\" name=\"Colombia\" />\n",
      "    </country>\n",
      "</data>\n"
     ]
    }
   ],
   "source": [
    "for rank in root.iter(\"rank\"):\n",
    "    new_rank = int(rank.text)+1\n",
    "    rank.text = str(new_rank)\n",
    "    rank.attrib[\"updated\"]=\"yes\"\n",
    "ET.dump(root)"
   ]
  },
  {
   "cell_type": "code",
   "execution_count": 26,
   "metadata": {},
   "outputs": [
    {
     "name": "stdout",
     "output_type": "stream",
     "text": [
      "<data>\n",
      "    <country name=\"Liechtenstein\">\n",
      "        <rank updated=\"yes\">2</rank>\n",
      "        <year>2008</year>\n",
      "        <gdppc>141100</gdppc>\n",
      "        <neighbor direction=\"E\" name=\"Austria\" />\n",
      "        <neighbor direction=\"W\" name=\"Switzerland\" />\n",
      "    </country>\n",
      "    <country name=\"Singapore\">\n",
      "        <rank updated=\"yes\">5</rank>\n",
      "        <year>2011</year>\n",
      "        <gdppc>59900</gdppc>\n",
      "        <neighbor direction=\"N\" name=\"Malaysia\" />\n",
      "    </country>\n",
      "    </data>\n"
     ]
    }
   ],
   "source": [
    "for country in root.findall('country'):\n",
    "    rank = int(country.find('rank').text)\n",
    "    if rank > 50:\n",
    "        root.remove(country)\n",
    "ET.dump(root)"
   ]
  },
  {
   "cell_type": "code",
   "execution_count": 28,
   "metadata": {},
   "outputs": [
    {
     "name": "stdout",
     "output_type": "stream",
     "text": [
      "<data>\n",
      "    <country name=\"Liechtenstein\">\n",
      "        <rank updated=\"yes\">2</rank>\n",
      "        <year>2008</year>\n",
      "        <gdppc>141100</gdppc>\n",
      "        <neighbor direction=\"E\" name=\"Austria\" />\n",
      "        <neighbor direction=\"W\" name=\"Switzerland\" />\n",
      "    <last_updated>2019-02-25 14:42:45.472184</last_updated><last_updated>2019-02-25 14:47:12.961484</last_updated></country>\n",
      "    <country name=\"Singapore\">\n",
      "        <rank updated=\"yes\">5</rank>\n",
      "        <year>2011</year>\n",
      "        <gdppc>59900</gdppc>\n",
      "        <neighbor direction=\"N\" name=\"Malaysia\" />\n",
      "    <last_updated>2019-02-25 14:42:45.472184</last_updated><last_updated>2019-02-25 14:47:12.961484</last_updated></country>\n",
      "    </data>\n"
     ]
    }
   ],
   "source": [
    "import datetime\n",
    "\n",
    "for country in root.findall('country'):\n",
    "    e=datetime.datetime.now()\n",
    "    last_updated = ET.SubElement(country,'last_updated')\n",
    "    last_updated.text = str(e)\n",
    "\n",
    "ET.dump(root)\n",
    "\n",
    "doc.write('output.xml',encoding='utf-8',xml_declaration=True)"
   ]
  },
  {
   "cell_type": "code",
   "execution_count": 29,
   "metadata": {},
   "outputs": [],
   "source": [
    "def auto_indent(elem, level=0):\n",
    "    indent = \"\\n\"+level*\"  \"\n",
    "    if len(elem):\n",
    "        if not elem.text or not elem.text.strip():\n",
    "            elem.text = indent+\"  \"\n",
    "        if not elem.tail or not elem.tail.strip():\n",
    "            elem.tail = indent\n",
    "        for elem in elem :\n",
    "            auto_indent(elem,level+1)\n",
    "        if not elem.tail or not elem.tail.strip():\n",
    "            elem.tail = indent\n",
    "    else:\n",
    "        if level and (not elem.tail or not elem.tail.strip()):\n",
    "            elem.tail = indent\n",
    "\n",
    "auto_indent(root)\n",
    "doc.write('output_indent.xml',encoding='utf-8',xml_declaration=True)"
   ]
  }
 ],
 "metadata": {
  "kernelspec": {
   "display_name": "Python 3",
   "language": "python",
   "name": "python3"
  },
  "language_info": {
   "codemirror_mode": {
    "name": "ipython",
    "version": 3
   },
   "file_extension": ".py",
   "mimetype": "text/x-python",
   "name": "python",
   "nbconvert_exporter": "python",
   "pygments_lexer": "ipython3",
   "version": "3.7.2"
  }
 },
 "nbformat": 4,
 "nbformat_minor": 2
}

{
 "cells": [
  {
   "cell_type": "code",
   "execution_count": 11,
   "metadata": {},
   "outputs": [],
   "source": [
    "import urllib.request as ur\n",
    "import sys\n",
    "\n",
    "page = \"http://www.naver.com\"\n",
    "req = ur.Request(page)\n",
    "fd = ur.urlopen(req,)\n",
    "with open(\"testnaver.html\",\"wt\") as ft:\n",
    "    data = fd.read()\n",
    "    ft.write(str(data,encoding=\"utf-8\"))"
   ]
  },
  {
   "cell_type": "code",
   "execution_count": 12,
   "metadata": {},
   "outputs": [
    {
     "data": {
      "text/plain": [
       "True"
      ]
     },
     "execution_count": 12,
     "metadata": {},
     "output_type": "execute_result"
    }
   ],
   "source": [
    "import webbrowser\n",
    "webbrowser.open(\"testnaver.html\")"
   ]
  },
  {
   "cell_type": "code",
   "execution_count": null,
   "metadata": {},
   "outputs": [],
   "source": [
    "import urllib.parse as up\n",
    "import urllib.request as ur\n",
    "encoding = up.urlencode([('activity','water ski'),('lake','Milford'),('code',52)])\n",
    "url = \"http://www.example.com\"+\"?\"+encoding\n",
    "print(url)\n",
    "req = ur.Request(url)\n",
    "fd = ur.urlopen(req,)\n",
    "with open(\"testexam.html\",\"wt\") as ft:\n",
    "    data = fd.read()\n",
    "    ft.write(str(data,encoding=\"utf-8\"))"
   ]
  },
  {
   "cell_type": "code",
   "execution_count": null,
   "metadata": {},
   "outputs": [],
   "source": []
  }
 ],
 "metadata": {
  "kernelspec": {
   "display_name": "Python 3",
   "language": "python",
   "name": "python3"
  },
  "language_info": {
   "codemirror_mode": {
    "name": "ipython",
    "version": 3
   },
   "file_extension": ".py",
   "mimetype": "text/x-python",
   "name": "python",
   "nbconvert_exporter": "python",
   "pygments_lexer": "ipython3",
   "version": "3.7.2"
  }
 },
 "nbformat": 4,
 "nbformat_minor": 2
}

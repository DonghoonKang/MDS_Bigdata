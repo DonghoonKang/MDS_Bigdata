{
 "cells": [
  {
   "cell_type": "code",
   "execution_count": 8,
   "metadata": {
    "scrolled": true
   },
   "outputs": [
    {
     "data": {
      "text/plain": [
       "50000"
      ]
     },
     "execution_count": 8,
     "metadata": {},
     "output_type": "execute_result"
    }
   ],
   "source": [
    "import pandas as pd\n",
    "from konlpy.utils import pprint\n",
    "korean_review_df = pd.read_csv(\"ratings_test.txt\",header=0,delimiter=\"\\t\",quoting=3, encoding=\"utf-8\")\n",
    "\n",
    "len(korean_review_df)"
   ]
  },
  {
   "cell_type": "code",
   "execution_count": 9,
   "metadata": {
    "scrolled": false
   },
   "outputs": [
    {
     "name": "stdout",
     "output_type": "stream",
     "text": [
      "[('마늘', 'Noun'),\n",
      " ('치킨', 'Noun'),\n",
      " ('이', 'Josa'),\n",
      " ('먹다', 'Verb'),\n",
      " ('ㅋㅋ', 'KoreanParticle'),\n",
      " ('치킨', 'Noun'),\n",
      " ('사랑', 'Noun'),\n",
      " ('하다', 'Verb'),\n",
      " ('~', 'Punctuation')]\n",
      "[('지루하다', 'Adjective'),\n",
      " ('않다', 'Verb'),\n",
      " ('완전', 'Noun'),\n",
      " ('막장', 'Noun'),\n",
      " ('임', 'Noun'),\n",
      " ('...', 'Punctuation'),\n",
      " ('돈', 'Noun'),\n",
      " ('주다', 'Verb'),\n",
      " ('보기', 'Noun'),\n",
      " ('에는', 'Josa'),\n",
      " ('....', 'Punctuation')]\n"
     ]
    }
   ],
   "source": [
    "\n",
    "from konlpy.tag import Twitter\n",
    "twi_tagger = Twitter()\n",
    "\n",
    "temp_sen = u\"마늘치킨이 먹고싶닼ㅋㅋ 치킨 사랑해~\"\n",
    "pprint(twi_tagger.pos(temp_sen,norm=True,stem=True))\n",
    "\n",
    "words_temp = twi_tagger.pos(korean_review_df[\"document\"][3], norm=True, stem=True)\n",
    "pprint(words_temp)"
   ]
  },
  {
   "cell_type": "code",
   "execution_count": 29,
   "metadata": {
    "scrolled": true
   },
   "outputs": [
    {
     "name": "stdout",
     "output_type": "stream",
     "text": [
      "review_num : 5000\n",
      "'float' object has no attribute 'strip'\n"
     ]
    },
    {
     "name": "stderr",
     "output_type": "stream",
     "text": [
      "c:\\python37\\lib\\site-packages\\bs4\\__init__.py:272: UserWarning: \"b'..........'\" looks like a filename, not markup. You should probably open this file and pass the filehandle into Beautiful Soup.\n",
      "  ' Beautiful Soup.' % markup)\n"
     ]
    },
    {
     "name": "stdout",
     "output_type": "stream",
     "text": [
      "'float' object has no attribute 'strip'\n"
     ]
    },
    {
     "name": "stderr",
     "output_type": "stream",
     "text": [
      "c:\\python37\\lib\\site-packages\\bs4\\__init__.py:272: UserWarning: \"b'.....'\" looks like a filename, not markup. You should probably open this file and pass the filehandle into Beautiful Soup.\n",
      "  ' Beautiful Soup.' % markup)\n"
     ]
    },
    {
     "name": "stdout",
     "output_type": "stream",
     "text": [
      "review_num : 10000\n"
     ]
    },
    {
     "name": "stderr",
     "output_type": "stream",
     "text": [
      "c:\\python37\\lib\\site-packages\\bs4\\__init__.py:272: UserWarning: \"b'..............'\" looks like a filename, not markup. You should probably open this file and pass the filehandle into Beautiful Soup.\n",
      "  ' Beautiful Soup.' % markup)\n",
      "c:\\python37\\lib\\site-packages\\bs4\\__init__.py:272: UserWarning: \"b'....'\" looks like a filename, not markup. You should probably open this file and pass the filehandle into Beautiful Soup.\n",
      "  ' Beautiful Soup.' % markup)\n"
     ]
    },
    {
     "name": "stdout",
     "output_type": "stream",
     "text": [
      "review_num : 15000\n"
     ]
    },
    {
     "name": "stderr",
     "output_type": "stream",
     "text": [
      "c:\\python37\\lib\\site-packages\\bs4\\__init__.py:272: UserWarning: \"b'..'\" looks like a filename, not markup. You should probably open this file and pass the filehandle into Beautiful Soup.\n",
      "  ' Beautiful Soup.' % markup)\n"
     ]
    },
    {
     "name": "stdout",
     "output_type": "stream",
     "text": [
      "review_num : 20000\n"
     ]
    },
    {
     "name": "stderr",
     "output_type": "stream",
     "text": [
      "c:\\python37\\lib\\site-packages\\bs4\\__init__.py:272: UserWarning: \"b'\\xec\\xa7\\x90\\xec\\xbc\\x80\\xeb\\xa6\\xac\\xeb\\x8f\\x84 \\xec\\x9d\\xb4\\xec\\xa0\\xa0,,//..'\" looks like a filename, not markup. You should probably open this file and pass the filehandle into Beautiful Soup.\n",
      "  ' Beautiful Soup.' % markup)\n",
      "c:\\python37\\lib\\site-packages\\bs4\\__init__.py:272: UserWarning: \"b'.............'\" looks like a filename, not markup. You should probably open this file and pass the filehandle into Beautiful Soup.\n",
      "  ' Beautiful Soup.' % markup)\n"
     ]
    },
    {
     "name": "stdout",
     "output_type": "stream",
     "text": [
      "review_num : 25000\n",
      "'float' object has no attribute 'strip'\n",
      "review_num : 30000\n",
      "review_num : 35000\n",
      "review_num : 40000\n",
      "review_num : 45000\n"
     ]
    },
    {
     "name": "stderr",
     "output_type": "stream",
     "text": [
      "c:\\python37\\lib\\site-packages\\bs4\\__init__.py:272: UserWarning: \"b'\\xeb\\xad\\x90\\xec\\xa7\\x80 \\xec\\x9d\\xb4\\xec\\x98\\x81\\xed\\x99\\x94\\xeb\\x8a\\x94.../..'\" looks like a filename, not markup. You should probably open this file and pass the filehandle into Beautiful Soup.\n",
      "  ' Beautiful Soup.' % markup)\n"
     ]
    },
    {
     "name": "stdout",
     "output_type": "stream",
     "text": [
      "review_num : 50000\n",
      "['굳다/Adjective',\n",
      " 'ㅋ/KoreanParticle',\n",
      " 'GDNTOPCLASSINTHECLUB/Alpha',\n",
      " '뭐/Noun',\n",
      " '야/Josa',\n",
      " '이/Noun',\n",
      " '평점/Noun',\n",
      " '들/Suffix',\n",
      " '은/Josa',\n",
      " '..../Punctuation']\n",
      "[('./Punctuation', 22621),\n",
      " ('영화/Noun', 17328),\n",
      " ('하다/Verb', 13750),\n",
      " ('이/Josa', 13105),\n",
      " ('보다/Verb', 12840),\n",
      " ('의/Josa', 10147),\n",
      " ('../Punctuation', 9590),\n",
      " ('에/Josa', 9044),\n",
      " ('가/Josa', 8892),\n",
      " ('.../Punctuation', 7717)]\n"
     ]
    },
    {
     "data": {
      "image/png": "[encoded data removed]",
      "text/plain": [
       "<Figure size 432x288 with 1 Axes>"
      ]
     },
     "metadata": {
      "needs_background": "light"
     },
     "output_type": "display_data"
    }
   ],
   "source": [
    "import nltk\n",
    "tokenizer = nltk.data.load('tokenizers/punkt/english.pickle')\n",
    "tokenizer\n",
    "\n",
    "from bs4 import BeautifulSoup\n",
    "import re\n",
    "from nltk.corpus import stopwords\n",
    "def tokenizer_twit(doc):\n",
    "    return ['/'.join(t) for t in twi_tagger.pos(doc, norm=True, stem =True)]\n",
    "def review_to_wordlist(review):\n",
    "    try:\n",
    "        review_text = BeautifulSoup(review.strip()).get_text()\n",
    "    except AttributeError as e:\n",
    "        print(e)\n",
    "        review_text = \"\"\n",
    "    review_words = tokenizer_twit(review_text)\n",
    "    return review_words\n",
    "words=[]\n",
    "review_num=0\n",
    "for review in korean_review_df[\"document\"]:\n",
    "    words += review_to_wordlist(review)\n",
    "    review_num +=1\n",
    "    if review_num%5000 ==0 :\n",
    "        print(\"review_num : %d\"%(review_num))\n",
    "len(words)\n",
    "pprint(words[:10])\n",
    "import nltk\n",
    "words_nltk = nltk.Text(words, name=\"words in movie reviews\")\n",
    "pprint(words_nltk.vocab().most_common(10))\n",
    "import matplotlib\n",
    "matplotlib.rc('font',family='HYGothic-Medium')\n",
    "%matplotlib inline\n",
    "words_nltk.plot(40)"
   ]
  },
  {
   "cell_type": "code",
   "execution_count": 28,
   "metadata": {
    "scrolled": false
   },
   "outputs": [
    {
     "data": {
      "text/plain": [
       "['STIXSizeFourSym',\n",
       " 'DejaVu Sans Mono',\n",
       " 'DejaVu Serif',\n",
       " 'cmex10',\n",
       " 'STIXSizeTwoSym',\n",
       " 'STIXGeneral',\n",
       " 'cmr10',\n",
       " 'STIXNonUnicode',\n",
       " 'DejaVu Sans Mono',\n",
       " 'cmtt10',\n",
       " 'DejaVu Sans',\n",
       " 'STIXSizeThreeSym',\n",
       " 'DejaVu Sans Mono',\n",
       " 'DejaVu Sans Mono',\n",
       " 'STIXNonUnicode',\n",
       " 'DejaVu Sans Display',\n",
       " 'STIXNonUnicode',\n",
       " 'DejaVu Sans',\n",
       " 'DejaVu Sans',\n",
       " 'DejaVu Serif',\n",
       " 'STIXNonUnicode',\n",
       " 'STIXGeneral',\n",
       " 'DejaVu Serif',\n",
       " 'STIXSizeTwoSym',\n",
       " 'cmsy10',\n",
       " 'cmss10',\n",
       " 'DejaVu Serif',\n",
       " 'cmb10',\n",
       " 'DejaVu Serif Display',\n",
       " 'STIXSizeFiveSym',\n",
       " 'STIXGeneral',\n",
       " 'DejaVu Sans',\n",
       " 'STIXSizeOneSym',\n",
       " 'STIXSizeOneSym',\n",
       " 'STIXGeneral',\n",
       " 'cmmi10',\n",
       " 'STIXSizeFourSym',\n",
       " 'STIXSizeThreeSym',\n",
       " 'Georgia',\n",
       " 'Calibri',\n",
       " 'Khmer UI',\n",
       " 'Arial',\n",
       " 'Miriam Fixed',\n",
       " 'Browallia New',\n",
       " 'Narkisim',\n",
       " 'Segoe UI Symbol',\n",
       " 'Khmer UI',\n",
       " 'DilleniaUPC',\n",
       " 'Raavi',\n",
       " 'Microsoft Uighur',\n",
       " 'Aparajita',\n",
       " 'LilyUPC',\n",
       " 'Franklin Gothic Medium',\n",
       " 'Malgun Gothic',\n",
       " 'Microsoft PhagsPa',\n",
       " 'Calibri',\n",
       " 'Kartika',\n",
       " 'Angsana New',\n",
       " 'David',\n",
       " 'Raavi',\n",
       " 'Symbol',\n",
       " 'KaiTi',\n",
       " 'Microsoft Sans Serif',\n",
       " 'Candara',\n",
       " 'Shonar Bangla',\n",
       " 'Impact',\n",
       " 'Tunga',\n",
       " 'Segoe UI',\n",
       " 'Kalinga',\n",
       " 'LilyUPC',\n",
       " 'Leelawadee',\n",
       " 'Corbel',\n",
       " 'Cambria',\n",
       " 'CordiaUPC',\n",
       " 'Arial',\n",
       " 'Iskoola Pota',\n",
       " 'Malgun Gothic',\n",
       " 'Segoe Script',\n",
       " 'BrowalliaUPC',\n",
       " 'Corbel',\n",
       " 'Shonar Bangla',\n",
       " 'EucrosiaUPC',\n",
       " 'FreesiaUPC',\n",
       " 'DilleniaUPC',\n",
       " 'Segoe UI',\n",
       " 'Utsaah',\n",
       " 'Candara',\n",
       " 'Simplified Arabic Fixed',\n",
       " 'Angsana New',\n",
       " 'Times New Roman',\n",
       " 'JasmineUPC',\n",
       " 'Constantia',\n",
       " 'AngsanaUPC',\n",
       " 'LilyUPC',\n",
       " 'FrankRuehl',\n",
       " 'Microsoft PhagsPa',\n",
       " 'Microsoft New Tai Lue',\n",
       " 'Segoe UI',\n",
       " 'Microsoft Tai Le',\n",
       " 'Wingdings',\n",
       " 'Browallia New',\n",
       " 'IrisUPC',\n",
       " 'KodchiangUPC',\n",
       " 'Tera Special',\n",
       " 'Sakkal Majalla',\n",
       " 'Latha',\n",
       " 'Simplified Arabic',\n",
       " 'Gisha',\n",
       " 'Traditional Arabic',\n",
       " 'SimHei',\n",
       " 'BrowalliaUPC',\n",
       " 'Microsoft JhengHei',\n",
       " 'Segoe UI',\n",
       " 'Tahoma',\n",
       " 'Aparajita',\n",
       " 'Rod',\n",
       " 'Constantia',\n",
       " 'Microsoft YaHei',\n",
       " 'Angsana New',\n",
       " 'Cordia New',\n",
       " 'Vani',\n",
       " 'Leelawadee',\n",
       " 'Estrangelo Edessa',\n",
       " 'Calibri',\n",
       " 'Ebrima',\n",
       " 'Webdings',\n",
       " 'Browallia New',\n",
       " 'Tahoma',\n",
       " 'Euphemia',\n",
       " 'Courier New',\n",
       " 'Microsoft Himalaya',\n",
       " 'Cordia New',\n",
       " 'Trebuchet MS',\n",
       " 'Lucida Console',\n",
       " 'David',\n",
       " 'Kokila',\n",
       " 'Browallia New',\n",
       " 'Microsoft Tai Le',\n",
       " 'Vrinda',\n",
       " 'Kokila',\n",
       " 'Courier New',\n",
       " 'FreesiaUPC',\n",
       " 'Corbel',\n",
       " 'Marlett',\n",
       " 'Gisha',\n",
       " 'Gabriola',\n",
       " 'Consolas',\n",
       " 'Trebuchet MS',\n",
       " 'Corbel',\n",
       " 'Candara',\n",
       " 'Aharoni',\n",
       " 'Vijaya',\n",
       " 'KodchiangUPC',\n",
       " 'EucrosiaUPC',\n",
       " 'Vijaya',\n",
       " 'Palatino Linotype',\n",
       " 'Kalinga',\n",
       " 'Kokila',\n",
       " 'Utsaah',\n",
       " 'Simplified Arabic',\n",
       " 'DilleniaUPC',\n",
       " 'Microsoft Yi Baiti',\n",
       " 'DFKai-SB',\n",
       " 'Vani',\n",
       " 'Nyala',\n",
       " 'Comic Sans MS',\n",
       " 'Arial',\n",
       " 'Consolas',\n",
       " 'Courier New',\n",
       " 'Trebuchet MS',\n",
       " 'Mangal',\n",
       " 'CordiaUPC',\n",
       " 'FreesiaUPC',\n",
       " 'Calibri',\n",
       " 'LilyUPC',\n",
       " 'EucrosiaUPC',\n",
       " 'Andalus',\n",
       " 'Microsoft YaHei',\n",
       " 'Times New Roman',\n",
       " 'Sakkal Majalla',\n",
       " 'Shruti',\n",
       " 'Candara',\n",
       " 'Cambria',\n",
       " 'IrisUPC',\n",
       " 'Shruti',\n",
       " 'Plantagenet Cherokee',\n",
       " 'Palatino Linotype',\n",
       " 'Utsaah',\n",
       " 'Utsaah',\n",
       " 'Lucida Sans Unicode',\n",
       " 'Gautami',\n",
       " 'Trebuchet MS',\n",
       " 'Consolas',\n",
       " 'Arial',\n",
       " 'Times New Roman',\n",
       " 'Vrinda',\n",
       " 'Kartika',\n",
       " 'CordiaUPC',\n",
       " 'IrisUPC',\n",
       " 'Aparajita',\n",
       " 'KodchiangUPC',\n",
       " 'Traditional Arabic',\n",
       " 'Cambria',\n",
       " 'Constantia',\n",
       " 'Palatino Linotype',\n",
       " 'Lao UI',\n",
       " 'SimSun-ExtB',\n",
       " 'Angsana New',\n",
       " 'BrowalliaUPC',\n",
       " 'Segoe Script',\n",
       " 'Levenim MT',\n",
       " 'JasmineUPC',\n",
       " 'Verdana',\n",
       " 'Cordia New',\n",
       " 'Comic Sans MS',\n",
       " 'Consolas',\n",
       " 'KodchiangUPC',\n",
       " 'AngsanaUPC',\n",
       " 'FreesiaUPC',\n",
       " 'Aparajita',\n",
       " 'Segoe Print',\n",
       " 'Georgia',\n",
       " 'Segoe Print',\n",
       " 'Verdana',\n",
       " 'Verdana',\n",
       " 'FangSong',\n",
       " 'Tunga',\n",
       " 'EucrosiaUPC',\n",
       " 'Courier New',\n",
       " 'IrisUPC',\n",
       " 'Lao UI',\n",
       " 'Cordia New',\n",
       " 'CordiaUPC',\n",
       " 'Iskoola Pota',\n",
       " 'MV Boli',\n",
       " 'DokChampa',\n",
       " 'Microsoft New Tai Lue',\n",
       " 'Gautami',\n",
       " 'Segoe UI',\n",
       " 'Ebrima',\n",
       " 'MoolBoran',\n",
       " 'DilleniaUPC',\n",
       " 'Franklin Gothic Medium',\n",
       " 'Miriam',\n",
       " 'Latha',\n",
       " 'Georgia',\n",
       " 'JasmineUPC',\n",
       " 'Constantia',\n",
       " 'Palatino Linotype',\n",
       " 'Microsoft JhengHei',\n",
       " 'Sylfaen',\n",
       " 'Segoe UI',\n",
       " 'Arial',\n",
       " 'Kokila',\n",
       " 'Calibri',\n",
       " 'Times New Roman',\n",
       " 'JasmineUPC',\n",
       " 'Levenim MT',\n",
       " 'Calibri',\n",
       " 'Mongolian Baiti',\n",
       " 'AngsanaUPC',\n",
       " 'Georgia',\n",
       " 'Arabic Typesetting',\n",
       " 'AngsanaUPC',\n",
       " 'BrowalliaUPC',\n",
       " 'Verdana',\n",
       " 'Mangal',\n",
       " 'DaunPenh']"
      ]
     },
     "execution_count": 28,
     "metadata": {},
     "output_type": "execute_result"
    }
   ],
   "source": [
    "import matplotlib.font_manager as fm\n",
    "font_list = fm.findSystemFonts(fontpaths=None,fontext='ttf')\n",
    "f = [f.name for f in fm.fontManager.ttflist]\n",
    "f"
   ]
  },
  {
   "cell_type": "code",
   "execution_count": 81,
   "metadata": {
    "scrolled": false
   },
   "outputs": [
    {
     "data": {
      "image/png": "[encoded data removed]",
      "text/plain": [
       "<Figure size 432x288 with 1 Axes>"
      ]
     },
     "metadata": {
      "needs_background": "light"
     },
     "output_type": "display_data"
    }
   ],
   "source": [
    "from os import path\n",
    "import matplotlib.pyplot as plt\n",
    "from wordcloud import WordCloud\n",
    "\n",
    "text = open('constitution.txt', 'rt', encoding='UTF8').read()\n",
    "wordcloud = WordCloud().generate(text)\n",
    "matplotlib.rc('font',family='HYGothic-Medium')\n",
    "plt.imshow(wordcloud)\n",
    "plt.axis(\"off\")\n",
    "plt.show()"
   ]
  },
  {
   "cell_type": "code",
   "execution_count": 73,
   "metadata": {
    "scrolled": true
   },
   "outputs": [
    {
     "ename": "URLError",
     "evalue": "<urlopen error [WinError 10060] 연결된 구성원으로부터 응답이 없어 연결하지 못했거나, 호스트로부터 응답이 없어 연결이 끊어졌습니다>",
     "output_type": "error",
     "traceback": [
      "\u001b[1;31m---------------------------------------------------------------------------\u001b[0m",
      "\u001b[1;31mTimeoutError\u001b[0m                              Traceback (most recent call last)",
      "\u001b[1;32mc:\\python37\\lib\\urllib\\request.py\u001b[0m in \u001b[0;36mdo_open\u001b[1;34m(self, http_class, req, **http_conn_args)\u001b[0m\n\u001b[0;32m   1316\u001b[0m                 h.request(req.get_method(), req.selector, req.data, headers,\n\u001b[1;32m-> 1317\u001b[1;33m                           encode_chunked=req.has_header('Transfer-encoding'))\n\u001b[0m\u001b[0;32m   1318\u001b[0m             \u001b[1;32mexcept\u001b[0m \u001b[0mOSError\u001b[0m \u001b[1;32mas\u001b[0m \u001b[0merr\u001b[0m\u001b[1;33m:\u001b[0m \u001b[1;31m# timeout error\u001b[0m\u001b[1;33m\u001b[0m\u001b[1;33m\u001b[0m\u001b[0m\n",
      "\u001b[1;32mc:\\python37\\lib\\http\\client.py\u001b[0m in \u001b[0;36mrequest\u001b[1;34m(self, method, url, body, headers, encode_chunked)\u001b[0m\n\u001b[0;32m   1228\u001b[0m         \u001b[1;34m\"\"\"Send a complete request to the server.\"\"\"\u001b[0m\u001b[1;33m\u001b[0m\u001b[1;33m\u001b[0m\u001b[0m\n\u001b[1;32m-> 1229\u001b[1;33m         \u001b[0mself\u001b[0m\u001b[1;33m.\u001b[0m\u001b[0m_send_request\u001b[0m\u001b[1;33m(\u001b[0m\u001b[0mmethod\u001b[0m\u001b[1;33m,\u001b[0m \u001b[0murl\u001b[0m\u001b[1;33m,\u001b[0m \u001b[0mbody\u001b[0m\u001b[1;33m,\u001b[0m \u001b[0mheaders\u001b[0m\u001b[1;33m,\u001b[0m \u001b[0mencode_chunked\u001b[0m\u001b[1;33m)\u001b[0m\u001b[1;33m\u001b[0m\u001b[1;33m\u001b[0m\u001b[0m\n\u001b[0m\u001b[0;32m   1230\u001b[0m \u001b[1;33m\u001b[0m\u001b[0m\n",
      "\u001b[1;32mc:\\python37\\lib\\http\\client.py\u001b[0m in \u001b[0;36m_send_request\u001b[1;34m(self, method, url, body, headers, encode_chunked)\u001b[0m\n\u001b[0;32m   1274\u001b[0m             \u001b[0mbody\u001b[0m \u001b[1;33m=\u001b[0m \u001b[0m_encode\u001b[0m\u001b[1;33m(\u001b[0m\u001b[0mbody\u001b[0m\u001b[1;33m,\u001b[0m \u001b[1;34m'body'\u001b[0m\u001b[1;33m)\u001b[0m\u001b[1;33m\u001b[0m\u001b[1;33m\u001b[0m\u001b[0m\n\u001b[1;32m-> 1275\u001b[1;33m         \u001b[0mself\u001b[0m\u001b[1;33m.\u001b[0m\u001b[0mendheaders\u001b[0m\u001b[1;33m(\u001b[0m\u001b[0mbody\u001b[0m\u001b[1;33m,\u001b[0m \u001b[0mencode_chunked\u001b[0m\u001b[1;33m=\u001b[0m\u001b[0mencode_chunked\u001b[0m\u001b[1;33m)\u001b[0m\u001b[1;33m\u001b[0m\u001b[1;33m\u001b[0m\u001b[0m\n\u001b[0m\u001b[0;32m   1276\u001b[0m \u001b[1;33m\u001b[0m\u001b[0m\n",
      "\u001b[1;32mc:\\python37\\lib\\http\\client.py\u001b[0m in \u001b[0;36mendheaders\u001b[1;34m(self, message_body, encode_chunked)\u001b[0m\n\u001b[0;32m   1223\u001b[0m             \u001b[1;32mraise\u001b[0m \u001b[0mCannotSendHeader\u001b[0m\u001b[1;33m(\u001b[0m\u001b[1;33m)\u001b[0m\u001b[1;33m\u001b[0m\u001b[1;33m\u001b[0m\u001b[0m\n\u001b[1;32m-> 1224\u001b[1;33m         \u001b[0mself\u001b[0m\u001b[1;33m.\u001b[0m\u001b[0m_send_output\u001b[0m\u001b[1;33m(\u001b[0m\u001b[0mmessage_body\u001b[0m\u001b[1;33m,\u001b[0m \u001b[0mencode_chunked\u001b[0m\u001b[1;33m=\u001b[0m\u001b[0mencode_chunked\u001b[0m\u001b[1;33m)\u001b[0m\u001b[1;33m\u001b[0m\u001b[1;33m\u001b[0m\u001b[0m\n\u001b[0m\u001b[0;32m   1225\u001b[0m \u001b[1;33m\u001b[0m\u001b[0m\n",
      "\u001b[1;32mc:\\python37\\lib\\http\\client.py\u001b[0m in \u001b[0;36m_send_output\u001b[1;34m(self, message_body, encode_chunked)\u001b[0m\n\u001b[0;32m   1015\u001b[0m         \u001b[1;32mdel\u001b[0m \u001b[0mself\u001b[0m\u001b[1;33m.\u001b[0m\u001b[0m_buffer\u001b[0m\u001b[1;33m[\u001b[0m\u001b[1;33m:\u001b[0m\u001b[1;33m]\u001b[0m\u001b[1;33m\u001b[0m\u001b[1;33m\u001b[0m\u001b[0m\n\u001b[1;32m-> 1016\u001b[1;33m         \u001b[0mself\u001b[0m\u001b[1;33m.\u001b[0m\u001b[0msend\u001b[0m\u001b[1;33m(\u001b[0m\u001b[0mmsg\u001b[0m\u001b[1;33m)\u001b[0m\u001b[1;33m\u001b[0m\u001b[1;33m\u001b[0m\u001b[0m\n\u001b[0m\u001b[0;32m   1017\u001b[0m \u001b[1;33m\u001b[0m\u001b[0m\n",
      "\u001b[1;32mc:\\python37\\lib\\http\\client.py\u001b[0m in \u001b[0;36msend\u001b[1;34m(self, data)\u001b[0m\n\u001b[0;32m    955\u001b[0m             \u001b[1;32mif\u001b[0m \u001b[0mself\u001b[0m\u001b[1;33m.\u001b[0m\u001b[0mauto_open\u001b[0m\u001b[1;33m:\u001b[0m\u001b[1;33m\u001b[0m\u001b[1;33m\u001b[0m\u001b[0m\n\u001b[1;32m--> 956\u001b[1;33m                 \u001b[0mself\u001b[0m\u001b[1;33m.\u001b[0m\u001b[0mconnect\u001b[0m\u001b[1;33m(\u001b[0m\u001b[1;33m)\u001b[0m\u001b[1;33m\u001b[0m\u001b[1;33m\u001b[0m\u001b[0m\n\u001b[0m\u001b[0;32m    957\u001b[0m             \u001b[1;32melse\u001b[0m\u001b[1;33m:\u001b[0m\u001b[1;33m\u001b[0m\u001b[1;33m\u001b[0m\u001b[0m\n",
      "\u001b[1;32mc:\\python37\\lib\\http\\client.py\u001b[0m in \u001b[0;36mconnect\u001b[1;34m(self)\u001b[0m\n\u001b[0;32m    927\u001b[0m         self.sock = self._create_connection(\n\u001b[1;32m--> 928\u001b[1;33m             (self.host,self.port), self.timeout, self.source_address)\n\u001b[0m\u001b[0;32m    929\u001b[0m         \u001b[0mself\u001b[0m\u001b[1;33m.\u001b[0m\u001b[0msock\u001b[0m\u001b[1;33m.\u001b[0m\u001b[0msetsockopt\u001b[0m\u001b[1;33m(\u001b[0m\u001b[0msocket\u001b[0m\u001b[1;33m.\u001b[0m\u001b[0mIPPROTO_TCP\u001b[0m\u001b[1;33m,\u001b[0m \u001b[0msocket\u001b[0m\u001b[1;33m.\u001b[0m\u001b[0mTCP_NODELAY\u001b[0m\u001b[1;33m,\u001b[0m \u001b[1;36m1\u001b[0m\u001b[1;33m)\u001b[0m\u001b[1;33m\u001b[0m\u001b[1;33m\u001b[0m\u001b[0m\n",
      "\u001b[1;32mc:\\python37\\lib\\socket.py\u001b[0m in \u001b[0;36mcreate_connection\u001b[1;34m(address, timeout, source_address)\u001b[0m\n\u001b[0;32m    726\u001b[0m     \u001b[1;32mif\u001b[0m \u001b[0merr\u001b[0m \u001b[1;32mis\u001b[0m \u001b[1;32mnot\u001b[0m \u001b[1;32mNone\u001b[0m\u001b[1;33m:\u001b[0m\u001b[1;33m\u001b[0m\u001b[1;33m\u001b[0m\u001b[0m\n\u001b[1;32m--> 727\u001b[1;33m         \u001b[1;32mraise\u001b[0m \u001b[0merr\u001b[0m\u001b[1;33m\u001b[0m\u001b[1;33m\u001b[0m\u001b[0m\n\u001b[0m\u001b[0;32m    728\u001b[0m     \u001b[1;32melse\u001b[0m\u001b[1;33m:\u001b[0m\u001b[1;33m\u001b[0m\u001b[1;33m\u001b[0m\u001b[0m\n",
      "\u001b[1;32mc:\\python37\\lib\\socket.py\u001b[0m in \u001b[0;36mcreate_connection\u001b[1;34m(address, timeout, source_address)\u001b[0m\n\u001b[0;32m    715\u001b[0m                 \u001b[0msock\u001b[0m\u001b[1;33m.\u001b[0m\u001b[0mbind\u001b[0m\u001b[1;33m(\u001b[0m\u001b[0msource_address\u001b[0m\u001b[1;33m)\u001b[0m\u001b[1;33m\u001b[0m\u001b[1;33m\u001b[0m\u001b[0m\n\u001b[1;32m--> 716\u001b[1;33m             \u001b[0msock\u001b[0m\u001b[1;33m.\u001b[0m\u001b[0mconnect\u001b[0m\u001b[1;33m(\u001b[0m\u001b[0msa\u001b[0m\u001b[1;33m)\u001b[0m\u001b[1;33m\u001b[0m\u001b[1;33m\u001b[0m\u001b[0m\n\u001b[0m\u001b[0;32m    717\u001b[0m             \u001b[1;31m# Break explicitly a reference cycle\u001b[0m\u001b[1;33m\u001b[0m\u001b[1;33m\u001b[0m\u001b[1;33m\u001b[0m\u001b[0m\n",
      "\u001b[1;31mTimeoutError\u001b[0m: [WinError 10060] 연결된 구성원으로부터 응답이 없어 연결하지 못했거나, 호스트로부터 응답이 없어 연결이 끊어졌습니다",
      "\nDuring handling of the above exception, another exception occurred:\n",
      "\u001b[1;31mURLError\u001b[0m                                  Traceback (most recent call last)",
      "\u001b[1;32m<ipython-input-73-408562923c98>\u001b[0m in \u001b[0;36m<module>\u001b[1;34m\u001b[0m\n\u001b[0;32m     36\u001b[0m \u001b[1;33m\u001b[0m\u001b[0m\n\u001b[0;32m     37\u001b[0m \u001b[0mbill_num\u001b[0m \u001b[1;33m=\u001b[0m \u001b[1;34m'1904882'\u001b[0m\u001b[1;33m\u001b[0m\u001b[1;33m\u001b[0m\u001b[0m\n\u001b[1;32m---> 38\u001b[1;33m \u001b[0mtext\u001b[0m \u001b[1;33m=\u001b[0m \u001b[0mget_bill_text\u001b[0m\u001b[1;33m(\u001b[0m\u001b[0mbill_num\u001b[0m\u001b[1;33m)\u001b[0m\u001b[1;33m\u001b[0m\u001b[1;33m\u001b[0m\u001b[0m\n\u001b[0m\u001b[0;32m     39\u001b[0m \u001b[0mtags\u001b[0m \u001b[1;33m=\u001b[0m \u001b[0mget_tags\u001b[0m\u001b[1;33m(\u001b[0m\u001b[0mtext\u001b[0m\u001b[1;33m)\u001b[0m\u001b[1;33m\u001b[0m\u001b[1;33m\u001b[0m\u001b[0m\n\u001b[0;32m     40\u001b[0m \u001b[0mprint\u001b[0m\u001b[1;33m(\u001b[0m\u001b[0mtags\u001b[0m\u001b[1;33m)\u001b[0m\u001b[1;33m\u001b[0m\u001b[1;33m\u001b[0m\u001b[0m\n",
      "\u001b[1;32m<ipython-input-73-408562923c98>\u001b[0m in \u001b[0;36mget_bill_text\u001b[1;34m(billnum)\u001b[0m\n\u001b[0;32m     19\u001b[0m \u001b[1;32mdef\u001b[0m \u001b[0mget_bill_text\u001b[0m\u001b[1;33m(\u001b[0m\u001b[0mbillnum\u001b[0m\u001b[1;33m)\u001b[0m\u001b[1;33m:\u001b[0m\u001b[1;33m\u001b[0m\u001b[1;33m\u001b[0m\u001b[0m\n\u001b[0;32m     20\u001b[0m     \u001b[0murl\u001b[0m \u001b[1;33m=\u001b[0m \u001b[1;34m'http://pokr.kr/bill/%s/text'\u001b[0m\u001b[1;33m%\u001b[0m\u001b[0mbillnum\u001b[0m\u001b[1;33m\u001b[0m\u001b[1;33m\u001b[0m\u001b[0m\n\u001b[1;32m---> 21\u001b[1;33m     \u001b[0mresponse\u001b[0m \u001b[1;33m=\u001b[0m \u001b[0murlopen\u001b[0m\u001b[1;33m(\u001b[0m\u001b[0murl\u001b[0m\u001b[1;33m)\u001b[0m\u001b[1;33m.\u001b[0m\u001b[0mread\u001b[0m\u001b[1;33m(\u001b[0m\u001b[1;33m)\u001b[0m\u001b[1;33m.\u001b[0m\u001b[0mdecode\u001b[0m\u001b[1;33m(\u001b[0m\u001b[1;34m'utf-8'\u001b[0m\u001b[1;33m)\u001b[0m\u001b[1;33m\u001b[0m\u001b[1;33m\u001b[0m\u001b[0m\n\u001b[0m\u001b[0;32m     22\u001b[0m     \u001b[0mpage\u001b[0m \u001b[1;33m=\u001b[0m \u001b[0mhtml\u001b[0m\u001b[1;33m.\u001b[0m\u001b[0mfromstring\u001b[0m\u001b[1;33m(\u001b[0m\u001b[0mresponse\u001b[0m\u001b[1;33m)\u001b[0m\u001b[1;33m\u001b[0m\u001b[1;33m\u001b[0m\u001b[0m\n\u001b[0;32m     23\u001b[0m     \u001b[0mtext\u001b[0m \u001b[1;33m=\u001b[0m \u001b[0mpage\u001b[0m\u001b[1;33m.\u001b[0m\u001b[0mxpath\u001b[0m\u001b[1;33m(\u001b[0m\u001b[1;34m\".//div[@id='bill-sections']/pre/text()\"\u001b[0m\u001b[1;33m)\u001b[0m\u001b[1;33m[\u001b[0m\u001b[1;36m0\u001b[0m\u001b[1;33m]\u001b[0m\u001b[1;33m\u001b[0m\u001b[1;33m\u001b[0m\u001b[0m\n",
      "\u001b[1;32mc:\\python37\\lib\\urllib\\request.py\u001b[0m in \u001b[0;36murlopen\u001b[1;34m(url, data, timeout, cafile, capath, cadefault, context)\u001b[0m\n\u001b[0;32m    220\u001b[0m     \u001b[1;32melse\u001b[0m\u001b[1;33m:\u001b[0m\u001b[1;33m\u001b[0m\u001b[1;33m\u001b[0m\u001b[0m\n\u001b[0;32m    221\u001b[0m         \u001b[0mopener\u001b[0m \u001b[1;33m=\u001b[0m \u001b[0m_opener\u001b[0m\u001b[1;33m\u001b[0m\u001b[1;33m\u001b[0m\u001b[0m\n\u001b[1;32m--> 222\u001b[1;33m     \u001b[1;32mreturn\u001b[0m \u001b[0mopener\u001b[0m\u001b[1;33m.\u001b[0m\u001b[0mopen\u001b[0m\u001b[1;33m(\u001b[0m\u001b[0murl\u001b[0m\u001b[1;33m,\u001b[0m \u001b[0mdata\u001b[0m\u001b[1;33m,\u001b[0m \u001b[0mtimeout\u001b[0m\u001b[1;33m)\u001b[0m\u001b[1;33m\u001b[0m\u001b[1;33m\u001b[0m\u001b[0m\n\u001b[0m\u001b[0;32m    223\u001b[0m \u001b[1;33m\u001b[0m\u001b[0m\n\u001b[0;32m    224\u001b[0m \u001b[1;32mdef\u001b[0m \u001b[0minstall_opener\u001b[0m\u001b[1;33m(\u001b[0m\u001b[0mopener\u001b[0m\u001b[1;33m)\u001b[0m\u001b[1;33m:\u001b[0m\u001b[1;33m\u001b[0m\u001b[1;33m\u001b[0m\u001b[0m\n",
      "\u001b[1;32mc:\\python37\\lib\\urllib\\request.py\u001b[0m in \u001b[0;36mopen\u001b[1;34m(self, fullurl, data, timeout)\u001b[0m\n\u001b[0;32m    523\u001b[0m             \u001b[0mreq\u001b[0m \u001b[1;33m=\u001b[0m \u001b[0mmeth\u001b[0m\u001b[1;33m(\u001b[0m\u001b[0mreq\u001b[0m\u001b[1;33m)\u001b[0m\u001b[1;33m\u001b[0m\u001b[1;33m\u001b[0m\u001b[0m\n\u001b[0;32m    524\u001b[0m \u001b[1;33m\u001b[0m\u001b[0m\n\u001b[1;32m--> 525\u001b[1;33m         \u001b[0mresponse\u001b[0m \u001b[1;33m=\u001b[0m \u001b[0mself\u001b[0m\u001b[1;33m.\u001b[0m\u001b[0m_open\u001b[0m\u001b[1;33m(\u001b[0m\u001b[0mreq\u001b[0m\u001b[1;33m,\u001b[0m \u001b[0mdata\u001b[0m\u001b[1;33m)\u001b[0m\u001b[1;33m\u001b[0m\u001b[1;33m\u001b[0m\u001b[0m\n\u001b[0m\u001b[0;32m    526\u001b[0m \u001b[1;33m\u001b[0m\u001b[0m\n\u001b[0;32m    527\u001b[0m         \u001b[1;31m# post-process response\u001b[0m\u001b[1;33m\u001b[0m\u001b[1;33m\u001b[0m\u001b[1;33m\u001b[0m\u001b[0m\n",
      "\u001b[1;32mc:\\python37\\lib\\urllib\\request.py\u001b[0m in \u001b[0;36m_open\u001b[1;34m(self, req, data)\u001b[0m\n\u001b[0;32m    541\u001b[0m         \u001b[0mprotocol\u001b[0m \u001b[1;33m=\u001b[0m \u001b[0mreq\u001b[0m\u001b[1;33m.\u001b[0m\u001b[0mtype\u001b[0m\u001b[1;33m\u001b[0m\u001b[1;33m\u001b[0m\u001b[0m\n\u001b[0;32m    542\u001b[0m         result = self._call_chain(self.handle_open, protocol, protocol +\n\u001b[1;32m--> 543\u001b[1;33m                                   '_open', req)\n\u001b[0m\u001b[0;32m    544\u001b[0m         \u001b[1;32mif\u001b[0m \u001b[0mresult\u001b[0m\u001b[1;33m:\u001b[0m\u001b[1;33m\u001b[0m\u001b[1;33m\u001b[0m\u001b[0m\n\u001b[0;32m    545\u001b[0m             \u001b[1;32mreturn\u001b[0m \u001b[0mresult\u001b[0m\u001b[1;33m\u001b[0m\u001b[1;33m\u001b[0m\u001b[0m\n",
      "\u001b[1;32mc:\\python37\\lib\\urllib\\request.py\u001b[0m in \u001b[0;36m_call_chain\u001b[1;34m(self, chain, kind, meth_name, *args)\u001b[0m\n\u001b[0;32m    501\u001b[0m         \u001b[1;32mfor\u001b[0m \u001b[0mhandler\u001b[0m \u001b[1;32min\u001b[0m \u001b[0mhandlers\u001b[0m\u001b[1;33m:\u001b[0m\u001b[1;33m\u001b[0m\u001b[1;33m\u001b[0m\u001b[0m\n\u001b[0;32m    502\u001b[0m             \u001b[0mfunc\u001b[0m \u001b[1;33m=\u001b[0m \u001b[0mgetattr\u001b[0m\u001b[1;33m(\u001b[0m\u001b[0mhandler\u001b[0m\u001b[1;33m,\u001b[0m \u001b[0mmeth_name\u001b[0m\u001b[1;33m)\u001b[0m\u001b[1;33m\u001b[0m\u001b[1;33m\u001b[0m\u001b[0m\n\u001b[1;32m--> 503\u001b[1;33m             \u001b[0mresult\u001b[0m \u001b[1;33m=\u001b[0m \u001b[0mfunc\u001b[0m\u001b[1;33m(\u001b[0m\u001b[1;33m*\u001b[0m\u001b[0margs\u001b[0m\u001b[1;33m)\u001b[0m\u001b[1;33m\u001b[0m\u001b[1;33m\u001b[0m\u001b[0m\n\u001b[0m\u001b[0;32m    504\u001b[0m             \u001b[1;32mif\u001b[0m \u001b[0mresult\u001b[0m \u001b[1;32mis\u001b[0m \u001b[1;32mnot\u001b[0m \u001b[1;32mNone\u001b[0m\u001b[1;33m:\u001b[0m\u001b[1;33m\u001b[0m\u001b[1;33m\u001b[0m\u001b[0m\n\u001b[0;32m    505\u001b[0m                 \u001b[1;32mreturn\u001b[0m \u001b[0mresult\u001b[0m\u001b[1;33m\u001b[0m\u001b[1;33m\u001b[0m\u001b[0m\n",
      "\u001b[1;32mc:\\python37\\lib\\urllib\\request.py\u001b[0m in \u001b[0;36mhttp_open\u001b[1;34m(self, req)\u001b[0m\n\u001b[0;32m   1343\u001b[0m \u001b[1;33m\u001b[0m\u001b[0m\n\u001b[0;32m   1344\u001b[0m     \u001b[1;32mdef\u001b[0m \u001b[0mhttp_open\u001b[0m\u001b[1;33m(\u001b[0m\u001b[0mself\u001b[0m\u001b[1;33m,\u001b[0m \u001b[0mreq\u001b[0m\u001b[1;33m)\u001b[0m\u001b[1;33m:\u001b[0m\u001b[1;33m\u001b[0m\u001b[1;33m\u001b[0m\u001b[0m\n\u001b[1;32m-> 1345\u001b[1;33m         \u001b[1;32mreturn\u001b[0m \u001b[0mself\u001b[0m\u001b[1;33m.\u001b[0m\u001b[0mdo_open\u001b[0m\u001b[1;33m(\u001b[0m\u001b[0mhttp\u001b[0m\u001b[1;33m.\u001b[0m\u001b[0mclient\u001b[0m\u001b[1;33m.\u001b[0m\u001b[0mHTTPConnection\u001b[0m\u001b[1;33m,\u001b[0m \u001b[0mreq\u001b[0m\u001b[1;33m)\u001b[0m\u001b[1;33m\u001b[0m\u001b[1;33m\u001b[0m\u001b[0m\n\u001b[0m\u001b[0;32m   1346\u001b[0m \u001b[1;33m\u001b[0m\u001b[0m\n\u001b[0;32m   1347\u001b[0m     \u001b[0mhttp_request\u001b[0m \u001b[1;33m=\u001b[0m \u001b[0mAbstractHTTPHandler\u001b[0m\u001b[1;33m.\u001b[0m\u001b[0mdo_request_\u001b[0m\u001b[1;33m\u001b[0m\u001b[1;33m\u001b[0m\u001b[0m\n",
      "\u001b[1;32mc:\\python37\\lib\\urllib\\request.py\u001b[0m in \u001b[0;36mdo_open\u001b[1;34m(self, http_class, req, **http_conn_args)\u001b[0m\n\u001b[0;32m   1317\u001b[0m                           encode_chunked=req.has_header('Transfer-encoding'))\n\u001b[0;32m   1318\u001b[0m             \u001b[1;32mexcept\u001b[0m \u001b[0mOSError\u001b[0m \u001b[1;32mas\u001b[0m \u001b[0merr\u001b[0m\u001b[1;33m:\u001b[0m \u001b[1;31m# timeout error\u001b[0m\u001b[1;33m\u001b[0m\u001b[1;33m\u001b[0m\u001b[0m\n\u001b[1;32m-> 1319\u001b[1;33m                 \u001b[1;32mraise\u001b[0m \u001b[0mURLError\u001b[0m\u001b[1;33m(\u001b[0m\u001b[0merr\u001b[0m\u001b[1;33m)\u001b[0m\u001b[1;33m\u001b[0m\u001b[1;33m\u001b[0m\u001b[0m\n\u001b[0m\u001b[0;32m   1320\u001b[0m             \u001b[0mr\u001b[0m \u001b[1;33m=\u001b[0m \u001b[0mh\u001b[0m\u001b[1;33m.\u001b[0m\u001b[0mgetresponse\u001b[0m\u001b[1;33m(\u001b[0m\u001b[1;33m)\u001b[0m\u001b[1;33m\u001b[0m\u001b[1;33m\u001b[0m\u001b[0m\n\u001b[0;32m   1321\u001b[0m         \u001b[1;32mexcept\u001b[0m\u001b[1;33m:\u001b[0m\u001b[1;33m\u001b[0m\u001b[1;33m\u001b[0m\u001b[0m\n",
      "\u001b[1;31mURLError\u001b[0m: <urlopen error [WinError 10060] 연결된 구성원으로부터 응답이 없어 연결하지 못했거나, 호스트로부터 응답이 없어 연결이 끊어졌습니다>"
     ]
    }
   ],
   "source": [
    "from collections import Counter\n",
    "import urllib\n",
    "import random\n",
    "import webbrowser\n",
    "\n",
    "from konlpy.tag import Hannanum\n",
    "from lxml import html\n",
    "import pytagcloud\n",
    "import sys\n",
    "\n",
    "if sys.version_info[0] >= 3 :\n",
    "    urlopen = urllib.request.urlopen\n",
    "else :\n",
    "    urlopen = urllib.urlopen\n",
    "    \n",
    "r = lambda: random.randint(0,255)\n",
    "color = lambda: (r(),r(),r())\n",
    "\n",
    "def get_bill_text(billnum):\n",
    "    url = 'http://pokr.kr/bill/%s/text'%billnum\n",
    "    response = urlopen(url).read().decode('utf-8')\n",
    "    page = html.fromstring(response)\n",
    "    text = page.xpath(\".//div[@id='bill-sections']/pre/text()\")[0]\n",
    "    return text\n",
    "\n",
    "def get_tags(text, ntags=50, multiplier=10):\n",
    "    h=Hannanum()\n",
    "    nouns = h.nouns(text)\n",
    "    count = Counter(nouns)\n",
    "    return [{'color':color(), 'tag':n, 'size':c*multiplier*2}\\\n",
    "               for n, c in count.most_common(ntags)]\n",
    "\n",
    "def draw_cloud(tags, filename, fontname='H2GTRM', size=(800,600)):\n",
    "    pytagcloud.create_tag_image(tags,filename,fontname=fontname,size=size)\n",
    "    webbrowser.open(filename)\n",
    "    \n",
    "bill_num = '1904882'\n",
    "text = get_bill_text(bill_num)\n",
    "tags = get_tags(text)\n",
    "print(tags)\n",
    "draw_cloud(tags,'wordcloud4.png')"
   ]
  },
  {
   "cell_type": "code",
   "execution_count": 82,
   "metadata": {},
   "outputs": [
    {
     "data": {
      "image/png": "[encoded data removed]",
      "text/plain": [
       "<Figure size 432x288 with 1 Axes>"
      ]
     },
     "metadata": {
      "needs_background": "light"
     },
     "output_type": "display_data"
    }
   ],
   "source": [
    "from os import path\n",
    "import matplotlib.pyplot as plt\n",
    "from wordcloud import WordCloud\n",
    "\n",
    "text = open('constitution.txt', 'rt', encoding='UTF8').read()\n",
    "plt.imshow(wordcloud)\n",
    "plt.axis(\"off\")\n",
    "plt.show()"
   ]
  }
 ],
 "metadata": {
  "kernelspec": {
   "display_name": "Python 3",
   "language": "python",
   "name": "python3"
  },
  "language_info": {
   "codemirror_mode": {
    "name": "ipython",
    "version": 3
   },
   "file_extension": ".py",
   "mimetype": "text/x-python",
   "name": "python",
   "nbconvert_exporter": "python",
   "pygments_lexer": "ipython3",
   "version": "3.7.2"
  }
 },
 "nbformat": 4,
 "nbformat_minor": 2
}
